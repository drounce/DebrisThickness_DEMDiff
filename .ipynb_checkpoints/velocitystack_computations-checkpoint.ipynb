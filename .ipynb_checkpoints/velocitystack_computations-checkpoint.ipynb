{
 "cells": [
  {
   "cell_type": "code",
   "execution_count": 2,
   "metadata": {
    "collapsed": true
   },
   "outputs": [],
   "source": [
    "%matplotlib inline\n",
    "import rasterio\n",
    "import matplotlib.pyplot as plt\n",
    "import gdal\n",
    "import numpy as np\n",
    "import timeit"
   ]
  },
  {
   "cell_type": "code",
   "execution_count": 10,
   "metadata": {},
   "outputs": [
    {
     "ename": "AttributeError",
     "evalue": "'NoneType' object has no attribute 'GetRasterBand'",
     "output_type": "error",
     "traceback": [
      "\u001b[1;31m---------------------------------------------------------------------------\u001b[0m",
      "\u001b[1;31mAttributeError\u001b[0m                            Traceback (most recent call last)",
      "\u001b[1;32m<ipython-input-10-cbe405d934e2>\u001b[0m in \u001b[0;36m<module>\u001b[1;34m()\u001b[0m\n\u001b[0;32m     11\u001b[0m \u001b[1;33m\u001b[0m\u001b[0m\n\u001b[0;32m     12\u001b[0m \u001b[0mvm_sample_fn\u001b[0m \u001b[1;33m=\u001b[0m \u001b[1;34m'..\\Velocity_data\\sample\\20150803_1703__20150124_0454-20160211_0512__0383day_vm_sample.tif'\u001b[0m\u001b[1;33m\u001b[0m\u001b[0m\n\u001b[1;32m---> 13\u001b[1;33m \u001b[0mbatman\u001b[0m \u001b[1;33m=\u001b[0m \u001b[0mimport_raster\u001b[0m\u001b[1;33m(\u001b[0m\u001b[0mvm_sample_fn\u001b[0m\u001b[1;33m)\u001b[0m\u001b[1;33m\u001b[0m\u001b[0m\n\u001b[0m",
      "\u001b[1;32m<ipython-input-10-cbe405d934e2>\u001b[0m in \u001b[0;36mimport_raster\u001b[1;34m(raster_fn)\u001b[0m\n\u001b[0;32m      6\u001b[0m     \u001b[0mraster_ds\u001b[0m \u001b[1;33m=\u001b[0m \u001b[0mgdal\u001b[0m\u001b[1;33m.\u001b[0m\u001b[0mOpen\u001b[0m\u001b[1;33m(\u001b[0m\u001b[0mraster_fn\u001b[0m\u001b[1;33m)\u001b[0m\u001b[1;33m\u001b[0m\u001b[0m\n\u001b[0;32m      7\u001b[0m     \u001b[1;31m# extract band information and get values\u001b[0m\u001b[1;33m\u001b[0m\u001b[1;33m\u001b[0m\u001b[0m\n\u001b[1;32m----> 8\u001b[1;33m     \u001b[0mraster_band\u001b[0m \u001b[1;33m=\u001b[0m \u001b[0mraster_ds\u001b[0m\u001b[1;33m.\u001b[0m\u001b[0mGetRasterBand\u001b[0m\u001b[1;33m(\u001b[0m\u001b[1;36m1\u001b[0m\u001b[1;33m)\u001b[0m\u001b[1;33m\u001b[0m\u001b[0m\n\u001b[0m\u001b[0;32m      9\u001b[0m     \u001b[0mraster_values\u001b[0m \u001b[1;33m=\u001b[0m \u001b[0mraster_band\u001b[0m\u001b[1;33m.\u001b[0m\u001b[0mReadAsArray\u001b[0m\u001b[1;33m(\u001b[0m\u001b[1;33m)\u001b[0m\u001b[1;33m\u001b[0m\u001b[0m\n\u001b[0;32m     10\u001b[0m     \u001b[1;32mreturn\u001b[0m \u001b[0mraster_values\u001b[0m\u001b[1;33m\u001b[0m\u001b[0m\n",
      "\u001b[1;31mAttributeError\u001b[0m: 'NoneType' object has no attribute 'GetRasterBand'"
     ]
    }
   ],
   "source": [
    "def import_raster(raster_fn):\n",
    "    \"\"\"Open raster and obtain the values in its first band as an array\n",
    "    Output: array of raster values\n",
    "    \"\"\"\n",
    "    # open raster dataset\n",
    "    raster_ds = gdal.Open(raster_fn)\n",
    "    # extract band information and get values\n",
    "    raster_band = raster_ds.GetRasterBand(1)\n",
    "    raster_values = raster_band.ReadAsArray()\n",
    "    return raster_values\n",
    "\n",
    "vm_sample_fn = '..\\Velocity_data\\sample\\20150803_1703__20150124_0454-20160211_0512__0383day_vm_sample.tif'\n",
    "batman = import_raster(vm_sample_fn)"
   ]
  },
  {
   "cell_type": "code",
   "execution_count": null,
   "metadata": {
    "collapsed": true
   },
   "outputs": [],
   "source": []
  }
 ],
 "metadata": {
  "kernelspec": {
   "display_name": "Python 3",
   "language": "python",
   "name": "python3"
  },
  "language_info": {
   "codemirror_mode": {
    "name": "ipython",
    "version": 3
   },
   "file_extension": ".py",
   "mimetype": "text/x-python",
   "name": "python",
   "nbconvert_exporter": "python",
   "pygments_lexer": "ipython3",
   "version": "3.6.2"
  }
 },
 "nbformat": 4,
 "nbformat_minor": 2
}
