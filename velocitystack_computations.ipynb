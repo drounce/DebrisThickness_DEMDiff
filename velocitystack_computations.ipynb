{
 "cells": [
  {
   "cell_type": "code",
   "execution_count": 9,
   "metadata": {
    "collapsed": true
   },
   "outputs": [],
   "source": [
    "import os\n",
    "%matplotlib inline\n",
    "import rasterio\n",
    "import matplotlib.pyplot as plt\n",
    "import gdal\n",
    "import numpy as np\n",
    "import timeit"
   ]
  },
  {
   "cell_type": "code",
   "execution_count": 32,
   "metadata": {},
   "outputs": [
    {
     "ename": "ValueError",
     "evalue": "operands could not be broadcast together with shapes (3061,3091) (3406,3109) ",
     "output_type": "error",
     "traceback": [
      "\u001b[1;31m---------------------------------------------------------------------------\u001b[0m",
      "\u001b[1;31mValueError\u001b[0m                                Traceback (most recent call last)",
      "\u001b[1;32m<ipython-input-32-f50177b83524>\u001b[0m in \u001b[0;36m<module>\u001b[1;34m()\u001b[0m\n\u001b[0;32m     15\u001b[0m \u001b[0mvm2\u001b[0m \u001b[1;33m=\u001b[0m \u001b[0mimport_raster\u001b[0m\u001b[1;33m(\u001b[0m\u001b[0mvm_sample_fn2\u001b[0m\u001b[1;33m)\u001b[0m\u001b[1;33m\u001b[0m\u001b[0m\n\u001b[0;32m     16\u001b[0m \u001b[1;33m\u001b[0m\u001b[0m\n\u001b[1;32m---> 17\u001b[1;33m \u001b[0mbatman\u001b[0m \u001b[1;33m=\u001b[0m \u001b[0mvm1\u001b[0m\u001b[1;33m+\u001b[0m\u001b[0mvm2\u001b[0m\u001b[1;33m\u001b[0m\u001b[0m\n\u001b[0m\u001b[0;32m     18\u001b[0m \u001b[1;33m\u001b[0m\u001b[0m\n\u001b[0;32m     19\u001b[0m \u001b[0mplt\u001b[0m\u001b[1;33m.\u001b[0m\u001b[0mfigure\u001b[0m\u001b[1;33m(\u001b[0m\u001b[1;36m1\u001b[0m\u001b[1;33m)\u001b[0m\u001b[1;33m\u001b[0m\u001b[0m\n",
      "\u001b[1;31mValueError\u001b[0m: operands could not be broadcast together with shapes (3061,3091) (3406,3109) "
     ]
    }
   ],
   "source": [
    "def import_raster(raster_fn):\n",
    "    \"\"\"Open raster and obtain the values in its first band as an array\n",
    "    Output: array of raster values\n",
    "    \"\"\"\n",
    "    # open raster dataset\n",
    "    raster_ds = gdal.Open(raster_fn)\n",
    "    # extract band information and get values\n",
    "    raster_band = raster_ds.GetRasterBand(1)\n",
    "    raster_values = raster_band.ReadAsArray()\n",
    "    return raster_values\n",
    "\n",
    "vm_sample_fn1 = '..\\Velocity_data\\sample/20150803_1703__20150124_0454-20160211_0512__0383day_vm.tif'\n",
    "vm1 = import_raster(vm_sample_fn1)\n",
    "vm_sample_fn2 = '..\\Velocity_data\\sample/20141018_0512__20140311_0520-20150527_0504__0441day_vm.tif'\n",
    "vm2 = import_raster(vm_sample_fn2)\n",
    "\n",
    "batman = vm1 + vm2\n",
    "\n",
    "plt.figure(1)\n",
    "plt.imshow(vm1*365)\n",
    "plt.ylabel('row')\n",
    "plt.xlabel('col')\n",
    "plt.title('total velocity (m a-1)')\n",
    "plt.clim(0, 60)\n",
    "plt.colorbar()\n",
    "\n",
    "plt.figure(2)\n",
    "plt.imshow(vm2*365)\n",
    "plt.ylabel('row')\n",
    "plt.xlabel('col')\n",
    "plt.title('total velocity (m a-1)')\n",
    "plt.clim(0, 60)\n",
    "plt.colorbar()"
   ]
  },
  {
   "cell_type": "code",
   "execution_count": null,
   "metadata": {
    "collapsed": true
   },
   "outputs": [],
   "source": []
  }
 ],
 "metadata": {
  "kernelspec": {
   "display_name": "Python 3",
   "language": "python",
   "name": "python3"
  },
  "language_info": {
   "codemirror_mode": {
    "name": "ipython",
    "version": 3
   },
   "file_extension": ".py",
   "mimetype": "text/x-python",
   "name": "python",
   "nbconvert_exporter": "python",
   "pygments_lexer": "ipython3",
   "version": "3.6.2"
  }
 },
 "nbformat": 4,
 "nbformat_minor": 2
}
